{
 "metadata": {
  "language_info": {
   "codemirror_mode": {
    "name": "ipython",
    "version": 3
   },
   "file_extension": ".py",
   "mimetype": "text/x-python",
   "name": "python",
   "nbconvert_exporter": "python",
   "pygments_lexer": "ipython3",
   "version": "3.8.3"
  },
  "orig_nbformat": 2,
  "kernelspec": {
   "name": "python383jvsc74a57bd03c7f8c324b0520741d8f7dcc7afd9611bd920f49d9711a9df0efb36f32ad44d3",
   "display_name": "Python 3.8.3 64-bit ('base': conda)"
  }
 },
 "nbformat": 4,
 "nbformat_minor": 2,
 "cells": [
  {
   "cell_type": "code",
   "execution_count": 20,
   "metadata": {},
   "outputs": [
    {
     "output_type": "stream",
     "name": "stdout",
     "text": [
      "{0: 'hund', 1: 'katt', 2: 'Kannin'}\n"
     ]
    }
   ],
   "source": [
    "djur = [\"hund\", \"katt\", \"Kannin\"]\n",
    "tom = {}\n",
    "\n",
    "for number, value in enumerate(djur):\n",
    "    tom[number] = djur[number]\n",
    "\n",
    "print(tom)"
   ]
  },
  {
   "cell_type": "code",
   "execution_count": null,
   "metadata": {},
   "outputs": [],
   "source": []
  }
 ]
}