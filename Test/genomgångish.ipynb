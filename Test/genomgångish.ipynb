{
 "metadata": {
  "language_info": {
   "codemirror_mode": {
    "name": "ipython",
    "version": 3
   },
   "file_extension": ".py",
   "mimetype": "text/x-python",
   "name": "python",
   "nbconvert_exporter": "python",
   "pygments_lexer": "ipython3",
   "version": "3.8.3"
  },
  "orig_nbformat": 2,
  "kernelspec": {
   "name": "python383jvsc74a57bd03c7f8c324b0520741d8f7dcc7afd9611bd920f49d9711a9df0efb36f32ad44d3",
   "display_name": "Python 3.8.3 64-bit (conda)"
  }
 },
 "nbformat": 4,
 "nbformat_minor": 2,
 "cells": [
  {
   "cell_type": "code",
   "execution_count": 1,
   "metadata": {},
   "outputs": [
    {
     "output_type": "stream",
     "name": "stdout",
     "text": [
      "Dash is running on http://127.0.0.1:8050/\n",
      "\n",
      " * Serving Flask app \"__main__\" (lazy loading)\n",
      " * Environment: production\n",
      "   WARNING: This is a development server. Do not use it in a production deployment.\n",
      "   Use a production WSGI server instead.\n",
      " * Debug mode: on\n"
     ]
    },
    {
     "output_type": "error",
     "ename": "SystemExit",
     "evalue": "1",
     "traceback": [
      "An exception has occurred, use %tb to see the full traceback.\n",
      "\u001b[1;31mSystemExit\u001b[0m\u001b[1;31m:\u001b[0m 1\n"
     ]
    }
   ],
   "source": [
    "import plotly.express as px \n",
    "import dash\n",
    "import dash_core_components as dcc\n",
    "import dash_html_components as HTML\n",
    "import pandas as pd \n",
    "import numpy as np\n",
    "from dash.dependencies import Input, Output\n",
    "\n",
    "app = dash.Dash(__name__)\n",
    "\n",
    "# genererar mockup data\n",
    "TE19 = np.random.randint(70,100,34)\n",
    "NA19 = np.random.randint(30,100,30)\n",
    "\n",
    "df_TE19 = pd.DataFrame({\"Närvaro\":TE19})\n",
    "df_NA19 = pd.DataFrame({\"Närvaro\":NA19})\n",
    "\n",
    "# skapa fig\n",
    "fig = px.bar(df_NA19, y=\"Närvaro\", title=\"Närvarograd i procent\")\n",
    "\n",
    "# utseendet\n",
    "app.layout = HTML.Div(children=[\n",
    "    HTML.H1(children = \"Närvarograd för olika klasser\"), \n",
    "\n",
    "    dcc.Dropdown(\n",
    "        id = \"drop\",\n",
    "        options = [dict(label = \"TE19\", value=\"TE19\"), dict(label = \"NA19\", value=\"NA19\")],\n",
    "        value=\"TE19\"\n",
    "    ),\n",
    "\n",
    "    dcc.Graph(\n",
    "        id = \"graph\",\n",
    "        figure = fig\n",
    "    )\n",
    "])\n",
    "\n",
    "@app.callback(\n",
    "    Output(\"graph\", \"figure\"),\n",
    "    [Input(\"drop\", \"value\")]\n",
    ")\n",
    "def update_figure(value):\n",
    "    if value == \"TE19\": df =df_TE19\n",
    "    elif value == \"NA19\": df = df_NA19\n",
    "\n",
    "    fig = px.bar(df, y=\"Närvaro\", title=f\"Närvarograd för klass {value}\")\n",
    "    fig.update_layout(transition_duration=500)\n",
    "    return fig\n",
    "\n",
    "if __name__ == \"__main__\":\n",
    "    app.run_server(debug = True)"
   ]
  },
  {
   "cell_type": "code",
   "execution_count": null,
   "metadata": {},
   "outputs": [],
   "source": []
  }
 ]
}